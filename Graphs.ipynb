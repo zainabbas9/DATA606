{
  "nbformat": 4,
  "nbformat_minor": 0,
  "metadata": {
    "colab": {
      "name": "Graphs.ipynb",
      "provenance": []
    },
    "kernelspec": {
      "name": "python3",
      "display_name": "Python 3"
    },
    "language_info": {
      "name": "python"
    }
  },
  "cells": [
    {
      "cell_type": "markdown",
      "metadata": {
        "id": "muJIKLSy7tNq"
      },
      "source": [
        "## Graphs\n",
        "\n",
        "The Seven Bridges of Königsberg is a historically notable problem in mathematics. Its negative resolution by Leonhard Euler in 1736 laid the foundations of graph theory and prefigured the idea of topology.\n",
        "\n",
        "The city of Königsberg in Prussia (now Kaliningrad, Russia) was set on both sides of the Pregel River, and included two large islands—Kneiphof and Lomse—which were connected to each other, or to the two mainland portions of the city, by seven bridges. The problem was to devise a walk through the city that would cross each of those bridges once and only once. \n",
        "\n",
        "Euler proved that the problem has no solution.\n",
        "\n",
        "[Wikipedia](https://en.wikipedia.org/wiki/Seven_Bridges_of_K%C3%B6nigsberg)\n",
        "\n",
        "\n",
        "\n",
        "![image](https://www.maa.org/sites/default/files/images/cms_upload/Konigsberg_colour37936.jpg)\n",
        "\n",
        "![image](https://www.researchgate.net/profile/Pawel-Boguslawski/publication/265219734/figure/fig3/AS:652964947558402@1532690383480/The-Koenigsberg-bridge-problem-a-seven-bridges-of-Koenigsberg-b-graph-representation.png)\n",
        "\n",
        "Euler’s celebrated 1735 solution of\n",
        "the K¨onigsberg bridge problem is often cited as the first\n",
        "true proof in the theory of networks, and during the twentieth century graph theory has developed into a substantial body of knowledge.\n",
        "[Reference](http://www-personal.umich.edu/~mejn/courses/2004/cscs535/review.pdf)"
      ]
    },
    {
      "cell_type": "markdown",
      "metadata": {
        "id": "d6xgvX_doRtj"
      },
      "source": [
        "## Degree\n",
        "\n",
        "The degree of a vertex of a graph is the number of edges that are incident to the vertex'i.e., the number of edges touching it."
      ]
    },
    {
      "cell_type": "markdown",
      "metadata": {
        "id": "T-6UERMBr4Sn"
      },
      "source": [
        "## Euler's result\n",
        "\n",
        "Euler's result proved that a necessary condition for the walk is that the graph be connected and have exactly zero or two nodes of odd degree. He stated that this condition is also sufficient and was later proved by Carl Hierholzer."
      ]
    },
    {
      "cell_type": "markdown",
      "metadata": {
        "id": "GYqT269AWRDb"
      },
      "source": [
        "## (undirected) Graph\n",
        "A graph is an ordered pair ${\\displaystyle G=(V,E)}$ comprising:\n",
        "\n",
        "${\\displaystyle V}$, a set of vertices (also called nodes or points);\n",
        "${\\displaystyle E\\subseteq \\{\\{x,y\\}\\mid x,y\\in V\\;{\\textrm {and}}\\;x\\neq y\\}}$, a set of edges (also called links or lines), which are unordered pairs of vertices (that is, an edge is associated with two distinct vertices).\n",
        "\n",
        "[Reference](https://en.wikipedia.org/wiki/Graph_theory)"
      ]
    },
    {
      "cell_type": "markdown",
      "metadata": {
        "id": "Ds2wEx74Wo4k"
      },
      "source": [
        "## Directed Graph\n",
        "\n",
        "A directed graph is an ordered pair ${\\displaystyle G=(V,E)}$ comprising:\n",
        "\n",
        "${\\displaystyle V}$, a set of vertices (also called nodes or points);\n",
        "${\\displaystyle E\\subseteq \\left\\{(x,y)\\mid (x,y)\\in V^{2}\\;{\\textrm {and}}\\;x\\neq y\\right\\}}$, a set of edges (also called directed edges, directed links, directed lines, arrows or arcs) which are ordered pairs of vertices (that is, an edge is associated with two distinct vertices).\n",
        "\n",
        "\n",
        "\n",
        "![image](https://www.differencebetween.com/wp-content/uploads/2011/05/DifferenceBetween_Directed_UnDirected_Graphs1.jpg)"
      ]
    },
    {
      "cell_type": "markdown",
      "metadata": {
        "id": "ki0kXdCrYAVj"
      },
      "source": [
        "## Data Structures for Graph Representation\n",
        "\n",
        "-- Adjacency List: Vertices are stored as records or objects, and every vertex stores a list of adjacent vertices\n",
        "\n",
        "-- Adjacency Matrix: A two-dimensional matrix, in which the rows represent source vertices and columns represent destination vertices"
      ]
    },
    {
      "cell_type": "markdown",
      "metadata": {
        "id": "kYDkrZuf83Wp"
      },
      "source": [
        "## Graph traversal algorithms\n",
        "\n",
        "--  ***Depth-first search (DFS)*** is an algorithm for traversing a finite graph. DFS visits the child vertices before visiting the sibling vertices; that is, it traverses the depth of any particular path before exploring its breadth. A stack (often the program's call stack via recursion) is generally used when implementing the algorithm.\n",
        "\n",
        "-- Pseudocode\n",
        "\n",
        "Input: A graph G and a vertex v of G\n",
        "\n",
        "Output: All vertices reachable from v labeled as discovered\n",
        "\n",
        "A recursive implementation of DFS:\n",
        "\n",
        "procedure DFS(G, v) is\n",
        "\n",
        "    label v as discovered\n",
        "\n",
        "    for all directed edges from v to w that are in G.adjacentEdges(v) do\n",
        "\n",
        "        if vertex w is not labeled as discovered then\n",
        "\n",
        "            recursively call DFS(G, w)\n",
        "\n",
        "-- Non-recursive implementation of DFS (to avoid stackoverflow)\n",
        "\n",
        "procedure DFS_iterative(G, v) is\n",
        "\n",
        "    let S be a stack\n",
        "\n",
        "    S.push(v)\n",
        "\n",
        "    while S is not empty do\n",
        "\n",
        "        v = S.pop()\n",
        "\n",
        "        if v is not labeled as discovered then\n",
        "\n",
        "            label v as discovered\n",
        "\n",
        "            for all edges from v to w in G.adjacentEdges(v) do \n",
        "\n",
        "                S.push(w)\n",
        "\n",
        "The non-recursive implementation is similar to breadth-first search but differs from it in two ways:\n",
        "\n",
        "-- it uses a stack instead of a queue, and\n",
        "-- it delays checking whether a vertex has been discovered until the vertex is popped from the stack rather than making this check before adding the vertex.\n",
        "\n",
        "If G is a tree, replacing the queue of the breadth-first search algorithm with a stack will yield a depth-first search algorithm\n",
        "\n",
        "[Reference](https://en.wikipedia.org/wiki/Depth-first_search)\n",
        "\n"
      ]
    },
    {
      "cell_type": "code",
      "metadata": {
        "colab": {
          "base_uri": "https://localhost:8080/"
        },
        "id": "apVONFxlziF7",
        "outputId": "b3c09b9e-9c4a-4503-935c-39b1b0e026cc"
      },
      "source": [
        "# https://www.geeksforgeeks.org/depth-first-search-or-dfs-for-a-graph/\n",
        "\n",
        "# Python3 program to print DFS traversal\n",
        "# from a given given graph\n",
        "from collections import defaultdict\n",
        " \n",
        "# This class represents a directed graph using\n",
        "# adjacency list representation\n",
        " \n",
        " \n",
        "class Graph:\n",
        " \n",
        "    # Constructor\n",
        "    def __init__(self):\n",
        " \n",
        "        # default dictionary to store graph\n",
        "        self.graph = defaultdict(list)\n",
        " \n",
        "    # function to add an edge to graph\n",
        "    def addEdge(self, u, v):\n",
        "        self.graph[u].append(v)\n",
        " \n",
        "    # A function used by DFS\n",
        "    def DFSUtil(self, v, visited):\n",
        " \n",
        "        # Mark the current node as visited\n",
        "        # and print it\n",
        "        visited.add(v)\n",
        "        print(v, end=' ')\n",
        " \n",
        "        # Recur for all the vertices\n",
        "        # adjacent to this vertex\n",
        "        for neighbour in self.graph[v]:\n",
        "            if neighbour not in visited:\n",
        "                self.DFSUtil(neighbour, visited)\n",
        " \n",
        "    # The function to do DFS traversal. It uses\n",
        "    # recursive DFSUtil()\n",
        "    def DFS(self, v):\n",
        " \n",
        "        # Create a set to store visited vertices\n",
        "        visited = set()\n",
        " \n",
        "        # Call the recursive helper function\n",
        "        # to print DFS traversal\n",
        "        self.DFSUtil(v, visited)\n",
        " \n",
        "# Driver code\n",
        " \n",
        " \n",
        "# Create a graph given\n",
        "# in the above diagram\n",
        "g = Graph()\n",
        "g.addEdge(0, 1)\n",
        "g.addEdge(0, 2)\n",
        "g.addEdge(1, 2)\n",
        "g.addEdge(2, 0)\n",
        "g.addEdge(2, 3)\n",
        "g.addEdge(3, 3)\n",
        " \n",
        "print(\"Following is DFS from (starting from vertex 2)\")\n",
        "g.DFS(2)\n",
        " \n",
        "# This code is contributed by Neelam Yadav"
      ],
      "execution_count": null,
      "outputs": [
        {
          "output_type": "stream",
          "text": [
            "Following is DFS from (starting from vertex 2)\n",
            "2 0 1 3 "
          ],
          "name": "stdout"
        }
      ]
    },
    {
      "cell_type": "markdown",
      "metadata": {
        "id": "5cQGovQtnEFY"
      },
      "source": [
        "-- ***Breadth-first search***\n",
        "\n",
        "Breadth-first search (BFS) is an algorithm for traversing or searching tree or graph data structures. It starts at the tree root (or some arbitrary node of a graph, sometimes referred to as a 'search key', and explores all of the neighbor nodes at the present depth prior to moving on to the nodes at the next depth level.\n",
        "\n",
        "-- Pseudocode\n",
        "\n",
        "Input: A graph G and a starting vertex root of G\n",
        "\n",
        "Output: Goal state. The parent links trace the shortest path back to root[7]\n",
        "\n",
        " procedure BFS(G, root) is\n",
        "\n",
        "       let Q be a queue\n",
        "\n",
        "       label root as discovered\n",
        "\n",
        "       Q.enqueue(root)\n",
        "\n",
        "       while Q is not empty do\n",
        "\n",
        "           v := Q.dequeue()\n",
        "\n",
        "           if v is the goal then\n",
        "\n",
        "               return v\n",
        "\n",
        "           for all edges from v to w in G.adjacentEdges(v) do\n",
        "\n",
        "              if w is not labeled as discovered then\n",
        "\n",
        "                  label w as discovered\n",
        "\n",
        "                  Q.enqueue(w)\n",
        "\n",
        "[Reference](https://en.wikipedia.org/wiki/Breadth-first_search)"
      ]
    },
    {
      "cell_type": "code",
      "metadata": {
        "colab": {
          "base_uri": "https://localhost:8080/"
        },
        "id": "TyEGXm1LnPUc",
        "outputId": "ca61579e-5ac9-4ce5-8ff2-495076608566"
      },
      "source": [
        "# https://www.geeksforgeeks.org/breadth-first-search-or-bfs-for-a-graph/\n",
        "\n",
        "# Python3 Program to print BFS traversal\n",
        "# from a given source vertex. BFS(int s)\n",
        "# traverses vertices reachable from s.\n",
        "from collections import defaultdict\n",
        " \n",
        "# This class represents a directed graph\n",
        "# using adjacency list representation\n",
        "class Graph:\n",
        " \n",
        "    # Constructor\n",
        "    def __init__(self):\n",
        " \n",
        "        # default dictionary to store graph\n",
        "        self.graph = defaultdict(list)\n",
        " \n",
        "    # function to add an edge to graph\n",
        "    def addEdge(self,u,v):\n",
        "        self.graph[u].append(v)\n",
        " \n",
        "    # Function to print a BFS of graph\n",
        "    def BFS(self, s):\n",
        " \n",
        "        # Mark all the vertices as not visited\n",
        "        visited = [False] * (max(self.graph) + 1)\n",
        " \n",
        "        # Create a queue for BFS\n",
        "        queue = []\n",
        " \n",
        "        # Mark the source node as\n",
        "        # visited and enqueue it\n",
        "        queue.append(s)\n",
        "        visited[s] = True\n",
        " \n",
        "        while queue:\n",
        " \n",
        "            # Dequeue a vertex from\n",
        "            # queue and print it\n",
        "            s = queue.pop(0)\n",
        "            print (s, end = \" \")\n",
        " \n",
        "            # Get all adjacent vertices of the\n",
        "            # dequeued vertex s. If a adjacent\n",
        "            # has not been visited, then mark it\n",
        "            # visited and enqueue it\n",
        "            for i in self.graph[s]:\n",
        "                if visited[i] == False:\n",
        "                    queue.append(i)\n",
        "                    visited[i] = True\n",
        " \n",
        "# Driver code\n",
        " \n",
        "# Create a graph given in\n",
        "# the above diagram\n",
        "g = Graph()\n",
        "g.addEdge(0, 1)\n",
        "g.addEdge(0, 2)\n",
        "g.addEdge(1, 2)\n",
        "g.addEdge(2, 0)\n",
        "g.addEdge(2, 3)\n",
        "g.addEdge(3, 3)\n",
        " \n",
        "print (\"Following is Breadth First Traversal\"\n",
        "                  \" (starting from vertex 2)\")\n",
        "g.BFS(2)\n",
        " \n",
        "# This code is contributed by Neelam Yadav"
      ],
      "execution_count": null,
      "outputs": [
        {
          "output_type": "stream",
          "text": [
            "Following is Breadth First Traversal (starting from vertex 2)\n",
            "2 0 3 1 "
          ],
          "name": "stdout"
        }
      ]
    },
    {
      "cell_type": "markdown",
      "metadata": {
        "id": "2aNeps2ZCnoo"
      },
      "source": [
        "## Exercise\n",
        "What is time and space complexity of DFS and BFS?"
      ]
    },
    {
      "cell_type": "markdown",
      "metadata": {
        "id": "yN8orljlC9aE"
      },
      "source": [
        "### Queue Data Structure\n",
        "\n",
        "A queue is a collection of entities that are maintained in a sequence and can be modified by the addition of entities at one end of the sequence and the removal of entities from the other end of the sequence\n",
        "\n",
        "![image](https://media.geeksforgeeks.org/wp-content/cdn-uploads/gq/2014/02/Queue.png)"
      ]
    },
    {
      "cell_type": "markdown",
      "metadata": {
        "id": "Q2NDtaD5EDaI"
      },
      "source": [
        "### Stack Data Structure\n",
        "\n",
        "A stack is a data type that serves as a collection of elements, with two main principal operations:\n",
        "\n",
        "-- Push, which adds an element to the collection, and\n",
        "\n",
        "-- Pop, which removes the most recently added element that was not yet removed.\n",
        "\n",
        "![image](https://media.geeksforgeeks.org/wp-content/cdn-uploads/gq/2013/03/stack.png)"
      ]
    },
    {
      "cell_type": "markdown",
      "metadata": {
        "id": "dejfkv3girsb"
      },
      "source": [
        "## Python\n",
        "\n",
        "In Python you can use Lists to implement Queues and Stacks.\n",
        "\n",
        "S.pop()\n",
        "\n",
        "Q.pop(0)"
      ]
    },
    {
      "cell_type": "code",
      "metadata": {
        "id": "AKbZVtHr7pwd"
      },
      "source": [
        ""
      ],
      "execution_count": null,
      "outputs": []
    }
  ]
}